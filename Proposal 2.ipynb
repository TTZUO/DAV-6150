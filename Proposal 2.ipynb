{
 "cells": [
  {
   "cell_type": "markdown",
   "metadata": {},
   "source": [
    "## Group: Jingmin Chen, Tianyu Sun"
   ]
  },
  {
   "cell_type": "markdown",
   "metadata": {},
   "source": [
    "# Introduction"
   ]
  },
  {
   "cell_type": "markdown",
   "metadata": {},
   "source": [
    "As one of the seven major arts, film has become an important art form and entertainment carrier, and even an indispensable part of our lives. At the same time, movies can also be regarded as a form of investment that is extremely dependent on capital and industrial standards. Therefore, analyzing movie data can help to seize the development trend of the movie industry. Commercially successful films can not only attract audiences, but also enable film companies to make huge profits. Good directors, experienced actors and many other factors are very important for making good movies. The Internet Movie Database (IMDb) is an online database of movie actors, movies, TV shows, TV stars and movie productions. IMDb's materials include a lot of information about the film, actors, length, content introduction, ratings, comments, etc."
   ]
  },
  {
   "cell_type": "markdown",
   "metadata": {},
   "source": [
    "# Research Questions "
   ]
  },
  {
   "cell_type": "markdown",
   "metadata": {},
   "source": [
    "Currently, IMDB ratings are most commonly used for movie ratings. However, well-known directors and actors can always bring the expected box office income, but can not guarantee a high imdb score. In this project, we will build a movie grading model based on a large amount of movie data. Based on the existing movie data, we will predict the IMDB score of the movie. The score of the movie can objectively reflect the quality of the movie.\n",
    "\n",
    "For the real world, the IMDB score of a high box office movie is not necessarily high, but the IMDB box office with a high rating must be very high. Therefore, building a movie rating prediction system is of great significance to the expected box office of the film, and more importantly, film production Merchants can estimate their box office based on the IMDB score, which has a great impact on their publicity."
   ]
  },
  {
   "cell_type": "markdown",
   "metadata": {},
   "source": [
    "# Data to be Used"
   ]
  },
  {
   "cell_type": "markdown",
   "metadata": {},
   "source": [
    "The data set comes from the Kaggle website. It contains 28 variables in 5043 movies, covering 66 countries for 100 years. There are 2399 unique director names and thousands of actors. \"Imdb_score\" is the response variable, while the other 27 variables are possible predictors.\n",
    "https://www.kaggle.com/tmdb/tmdb-movie-metadata?select=tmdb_5000_movies.csv\n",
    "\n",
    "Variable Name            | Description\n",
    "---------------------|----------------------------------------------\n",
    "movie_title              | Title of the Movie\n",
    "duration                 | Duration in minutes\n",
    "director_name            | Name of the Director of the Movie\n",
    "director_facebook_likes  | Number of likes of the Director on his Facebook Page\n",
    "actor_1_name             | Primary actor starring in the movie\n",
    "actor_1_facebook_likes   | Number of likes of the Actor_1 on his/her Facebook Page\n",
    "actor_2_name             | Other actor starring in the movie\n",
    "actor_2_facebook_likes   | Number of likes of the Actor_2 on his/her Facebook Page\n",
    "actor_3_name             | Other actor starring in the movie\n",
    "actor_3_facebook_likes   | Number of likes of the Actor_3 on his/her Facebook Page\n",
    "num_user_for_reviews     | Number of users who gave a review\n",
    "num_critic_for_reviews   | Number of critical reviews on imdb\n",
    "num_voted_users          | Number of people who voted for the movie\n",
    "cast_total_facebook_likes| Total number of facebook likes of the entire cast of the movie\n",
    "movie_facebook_likes     | Number of Facebook likes in the movie page\n",
    "plot_keywords            | Keywords describing the movie plot\n",
    "facenumber_in_poster     | Number of the actor who featured in the movie poster\n",
    "color                    | Film colorization. ‘Black and White’ or ‘Color’\n",
    "genres                   | Film categorization like ‘Animation’, ‘Comedy’, ‘Romance’, ‘Horror’, ‘Sci-Fi’, ‘Action’, ‘Family’\n",
    "title_year               | The year in which the movie is released (1916:2016)\n",
    "language                 | English, Arabic, Chinese, French, German, Danish, Italian, Japanese etc\n",
    "country                  | Country where the movie is produced\n",
    "content_rating           | Content rating of the movie\n",
    "aspect_ratio             | Aspect ratio the movie was made in\n",
    "movie_imdb_link          | IMDB link of the movie\n",
    "gross                    | Gross earnings of the movie in Dollars\n",
    "budget                   | Budget of the movie in Dollars\n",
    "imdb_score               | IMDB Score of the movie on IMDB"
   ]
  },
  {
   "cell_type": "markdown",
   "metadata": {},
   "source": [
    "# Approach "
   ]
  },
  {
   "cell_type": "markdown",
   "metadata": {},
   "source": [
    "Since the data comes from the kaggle website, we directly download the data, the data format is a csv file, use different data visualization methods for different data, and use a line chart to visualize each released movie data and box office data. The budget of a movie directly affects the quality of the movie, and the box office of the movie also affects the rating of the movie. The dependent variable is the rating of the movie. The relationship between the independent variable and the dependent variable can be analyzed using a correlation matrix or a heat map. In addition, we can use a histogram , Box plot, scatter plot and bar chart and other graphics for visual analysis.\n",
    "\n",
    "In this project, we use the IMDB score as the response variable to predict each variable. For movie ratings, since the dependent variable is a continuous type and is a prediction model, we use KNN, random forest, and SVM to predict the score, and use the root mean square error (rmse) to evaluate the performance of each model, rmse is Root mean square error, which is the minimum square root sum of the true and predicted scores. The smaller the rmse, the better the model. The performance of the three models is used as the weight of the combined model, and the output of the three independent models is combined into a whole model using weighted combination."
   ]
  },
  {
   "cell_type": "markdown",
   "metadata": {},
   "source": [
    "# Responsibilities"
   ]
  },
  {
   "cell_type": "markdown",
   "metadata": {},
   "source": [
    "#### Jingmin Chen"
   ]
  },
  {
   "cell_type": "markdown",
   "metadata": {},
   "source": [
    "1. Decide project's research topic\n",
    "2. Find and collect data\n",
    "3. Create machine learning models\n",
    "4. Review and check other team member's code"
   ]
  },
  {
   "cell_type": "markdown",
   "metadata": {},
   "source": [
    "#### Tianyu Sun"
   ]
  },
  {
   "cell_type": "markdown",
   "metadata": {},
   "source": [
    "1. Decide project's research topic\n",
    "2. Create markdown\n",
    "3. Perform EDA\n",
    "4. Review and check other team member's code"
   ]
  },
  {
   "cell_type": "code",
   "execution_count": null,
   "metadata": {},
   "outputs": [],
   "source": []
  }
 ],
 "metadata": {
  "kernelspec": {
   "display_name": "Python 3",
   "language": "python",
   "name": "python3"
  },
  "language_info": {
   "codemirror_mode": {
    "name": "ipython",
    "version": 3
   },
   "file_extension": ".py",
   "mimetype": "text/x-python",
   "name": "python",
   "nbconvert_exporter": "python",
   "pygments_lexer": "ipython3",
   "version": "3.7.1"
  },
  "toc": {
   "base_numbering": 1,
   "nav_menu": {},
   "number_sections": true,
   "sideBar": true,
   "skip_h1_title": false,
   "title_cell": "Table of Contents",
   "title_sidebar": "Contents",
   "toc_cell": false,
   "toc_position": {},
   "toc_section_display": true,
   "toc_window_display": true
  },
  "varInspector": {
   "cols": {
    "lenName": 16,
    "lenType": 16,
    "lenVar": 40
   },
   "kernels_config": {
    "python": {
     "delete_cmd_postfix": "",
     "delete_cmd_prefix": "del ",
     "library": "var_list.py",
     "varRefreshCmd": "print(var_dic_list())"
    },
    "r": {
     "delete_cmd_postfix": ") ",
     "delete_cmd_prefix": "rm(",
     "library": "var_list.r",
     "varRefreshCmd": "cat(var_dic_list()) "
    }
   },
   "types_to_exclude": [
    "module",
    "function",
    "builtin_function_or_method",
    "instance",
    "_Feature"
   ],
   "window_display": false
  }
 },
 "nbformat": 4,
 "nbformat_minor": 4
}
